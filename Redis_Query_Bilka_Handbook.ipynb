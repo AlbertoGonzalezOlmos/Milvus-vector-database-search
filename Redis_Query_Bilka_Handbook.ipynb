{
 "cells": [
  {
   "cell_type": "markdown",
   "metadata": {},
   "source": [
    "# Query Bilka Handbook using Redis vector database\n",
    "\n",
    "For libraries and basic setup of the Redis vector database see `Redis_Query_Bilka_Handbook.ipynb`\n",
    "\n"
   ]
  },
  {
   "cell_type": "code",
   "execution_count": 2,
   "metadata": {},
   "outputs": [
    {
     "data": {
      "text/plain": [
       "{'Bilka_handbook': [{'Chapter': 'Velkommen',\n",
       "   'Description': 'Det, vi arbejder sammen om, er at gøre hverdagslivet bedre. Vi elsker hverdagen og ved om nogen, hvad vores kunder har brug for i det daglige... '},\n",
       "  {'Chapter': 'Vores værdier',\n",
       "   'Description': 'Kulturen i Salling Group kan være lidt forskellig fra den ene kæde eller afdeling til den anden. Men langt mere binder os sammen.'}]}"
      ]
     },
     "execution_count": 2,
     "metadata": {},
     "output_type": "execute_result"
    }
   ],
   "source": [
    "{\n",
    "    \"Bilka_handbook\": \n",
    "    [\n",
    "         {  \"chapter\": \"Velkommen\",\n",
    "            \"description\": \"Det, vi arbejder sammen om, er at gøre hverdagslivet bedre. Vi elsker hverdagen og ved om nogen, hvad vores kunder har brug for i det daglige... \"\n",
    "         },\n",
    "         {\n",
    "            \"chapter\": \"Vores værdier\",\n",
    "            \"description\": \"Kulturen i Salling Group kan være lidt forskellig fra den ene kæde eller afdeling til den anden. Men langt mere binder os sammen.\"\n",
    "         },\n",
    "\n",
    "    ]\n",
    "}\n"
   ]
  },
  {
   "cell_type": "markdown",
   "metadata": {},
   "source": [
    "### `Import libraries`"
   ]
  },
  {
   "cell_type": "code",
   "execution_count": 4,
   "metadata": {},
   "outputs": [
    {
     "name": "stderr",
     "output_type": "stream",
     "text": [
      "/home/alberto/Documents/code/query-handbook/.venv/lib/python3.10/site-packages/tqdm/auto.py:21: TqdmWarning: IProgress not found. Please update jupyter and ipywidgets. See https://ipywidgets.readthedocs.io/en/stable/user_install.html\n",
      "  from .autonotebook import tqdm as notebook_tqdm\n"
     ]
    }
   ],
   "source": [
    "import json\n",
    "import time\n",
    "\n",
    "import numpy as np\n",
    "import pandas as pd\n",
    "import tabulate\n",
    "\n",
    "import redis\n",
    "import requests\n",
    "from redis.commands.search.field import (\n",
    "    NumericField,\n",
    "    TagField,\n",
    "    TextField,\n",
    "    VectorField,\n",
    ")\n",
    "from redis.commands.search.indexDefinition import IndexDefinition, IndexType\n",
    "from redis.commands.search.query import Query\n",
    "from sentence_transformers import SentenceTransformer"
   ]
  },
  {
   "cell_type": "code",
   "execution_count": 5,
   "metadata": {},
   "outputs": [],
   "source": [
    "client = redis.Redis(host=\"localhost\", port=6379, decode_responses=True)\n",
    "embedder = SentenceTransformer('msmarco-distilbert-base-v4')"
   ]
  },
  {
   "cell_type": "markdown",
   "metadata": {},
   "source": [
    "### `Import data`"
   ]
  },
  {
   "cell_type": "code",
   "execution_count": 8,
   "metadata": {},
   "outputs": [
    {
     "name": "stdout",
     "output_type": "stream",
     "text": [
      "{'Chapter': 'Velkommen', 'Description': 'Det, vi arbejder sammen om, er at gøre hverdagslivet bedre. Vi elsker hverdagen og ved om nogen, hvad vores kunder har brug for i det daglige... '}\n",
      "{'Chapter': 'Vores værdier', 'Description': 'Kulturen i Salling Group kan være lidt forskellig fra den ene kæde eller afdeling til den anden. Men langt mere binder os sammen.'}\n"
     ]
    }
   ],
   "source": [
    "with open('./../Bilka_handbook_mini.json') as jsonHandbook:\n",
    "    handbook = json.load(jsonHandbook)\n",
    "\n",
    "    for iLine in handbook['Bilka_handbook']:\n",
    "        print(iLine)\n",
    "\n"
   ]
  },
  {
   "cell_type": "markdown",
   "metadata": {},
   "source": [
    "The data used in this example follows the format below:"
   ]
  },
  {
   "cell_type": "code",
   "execution_count": 4,
   "metadata": {},
   "outputs": [],
   "source": [
    "# {\n",
    "#   \"model\": \"Jigger\",\n",
    "#   \"brand\": \"Velorim\",\n",
    "#   \"price\": 270,\n",
    "#   \"type\": \"Kids bikes\",\n",
    "#   \"specs\": {\n",
    "#     \"material\": \"aluminium\",\n",
    "#     \"weight\": \"10\"\n",
    "#   },\n",
    "#   \"description\": \"Small and powerful, the Jigger is the best ride for the smallest of tikes! ...\n",
    "# }"
   ]
  },
  {
   "cell_type": "code",
   "execution_count": 11,
   "metadata": {},
   "outputs": [
    {
     "data": {
      "text/plain": [
       "'[\\n  {\\n    \"Chapter\": \"Velkommen\",\\n    \"Description\": \"Det, vi arbejder sammen om, er at g\\\\u00f8re hverdagslivet bedre. Vi elsker hverdagen og ved om nogen, hvad vores kunder har brug for i det daglige... \"\\n  },\\n  {\\n    \"Chapter\": \"Vores v\\\\u00e6rdier\",\\n    \"Description\": \"Kulturen i Salling Group kan v\\\\u00e6re lidt forskellig fra den ene k\\\\u00e6de eller afdeling til den anden. Men langt mere binder os sammen.\"\\n  }\\n]'"
      ]
     },
     "execution_count": 11,
     "metadata": {},
     "output_type": "execute_result"
    }
   ],
   "source": [
    "json.dumps(handbook['Bilka_handbook'], indent=2)"
   ]
  },
  {
   "cell_type": "code",
   "execution_count": 35,
   "metadata": {},
   "outputs": [
    {
     "name": "stdout",
     "output_type": "stream",
     "text": [
      "sections:001\n",
      "{'Chapter': 'Velkommen', 'Description': 'Det, vi arbejder sammen om, er at gøre hverdagslivet bedre. Vi elsker hverdagen og ved om nogen, hvad vores kunder har brug for i det daglige... '}\n",
      "sections:002\n",
      "{'Chapter': 'Vores værdier', 'Description': 'Kulturen i Salling Group kan være lidt forskellig fra den ene kæde eller afdeling til den anden. Men langt mere binder os sammen.'}\n"
     ]
    }
   ],
   "source": [
    "pipeline = client.pipeline()\n",
    "for i, section in enumerate(handbook['Bilka_handbook'], start=1):\n",
    "    redis_key = f\"sections:{i:03}\"\n",
    "    pipeline.json().set(redis_key, \"$\", section)\n",
    "    print(redis_key)\n",
    "    print(section)\n"
   ]
  },
  {
   "cell_type": "code",
   "execution_count": 36,
   "metadata": {},
   "outputs": [],
   "source": [
    "res = pipeline.execute()"
   ]
  },
  {
   "cell_type": "code",
   "execution_count": 26,
   "metadata": {},
   "outputs": [],
   "source": [
    "keys = sorted(client.keys(\"sections:*\"))"
   ]
  },
  {
   "cell_type": "code",
   "execution_count": 31,
   "metadata": {},
   "outputs": [
    {
     "data": {
      "text/plain": [
       "['sections:001', 'sections:002']"
      ]
     },
     "execution_count": 31,
     "metadata": {},
     "output_type": "execute_result"
    }
   ],
   "source": [
    "keys"
   ]
  },
  {
   "cell_type": "code",
   "execution_count": 34,
   "metadata": {},
   "outputs": [
    {
     "data": {
      "text/plain": [
       "[[], []]"
      ]
     },
     "execution_count": 34,
     "metadata": {},
     "output_type": "execute_result"
    }
   ],
   "source": [
    "descriptions = client.json().mget(keys, \"$.description\")\n",
    "descriptions"
   ]
  },
  {
   "cell_type": "code",
   "execution_count": 33,
   "metadata": {},
   "outputs": [
    {
     "data": {
      "text/plain": [
       "[]"
      ]
     },
     "execution_count": 33,
     "metadata": {},
     "output_type": "execute_result"
    }
   ],
   "source": [
    "\n",
    "descriptions = [item for sublist in descriptions for item in sublist]\n"
   ]
  },
  {
   "cell_type": "code",
   "execution_count": 30,
   "metadata": {},
   "outputs": [
    {
     "ename": "IndexError",
     "evalue": "list index out of range",
     "output_type": "error",
     "traceback": [
      "\u001b[0;31m---------------------------------------------------------------------------\u001b[0m",
      "\u001b[0;31mIndexError\u001b[0m                                Traceback (most recent call last)",
      "Cell \u001b[0;32mIn[30], line 4\u001b[0m\n\u001b[1;32m      2\u001b[0m descriptions \u001b[38;5;241m=\u001b[39m [item \u001b[38;5;28;01mfor\u001b[39;00m sublist \u001b[38;5;129;01min\u001b[39;00m descriptions \u001b[38;5;28;01mfor\u001b[39;00m item \u001b[38;5;129;01min\u001b[39;00m sublist]\n\u001b[1;32m      3\u001b[0m embeddings \u001b[38;5;241m=\u001b[39m embedder\u001b[38;5;241m.\u001b[39mencode(descriptions)\u001b[38;5;241m.\u001b[39mastype(np\u001b[38;5;241m.\u001b[39mfloat32)\u001b[38;5;241m.\u001b[39mtolist()\n\u001b[0;32m----> 4\u001b[0m VECTOR_DIMENSION \u001b[38;5;241m=\u001b[39m \u001b[38;5;28mlen\u001b[39m(\u001b[43membeddings\u001b[49m\u001b[43m[\u001b[49m\u001b[38;5;241;43m0\u001b[39;49m\u001b[43m]\u001b[49m)\n",
      "\u001b[0;31mIndexError\u001b[0m: list index out of range"
     ]
    }
   ],
   "source": [
    "descriptions = client.json().mget(keys, \"$.description\")\n",
    "descriptions = [item for sublist in descriptions for item in sublist]\n",
    "embeddings = embedder.encode(descriptions).astype(np.float32).tolist()\n",
    "VECTOR_DIMENSION = len(embeddings[0])"
   ]
  },
  {
   "cell_type": "code",
   "execution_count": 29,
   "metadata": {},
   "outputs": [
    {
     "data": {
      "text/plain": [
       "[]"
      ]
     },
     "execution_count": 29,
     "metadata": {},
     "output_type": "execute_result"
    }
   ],
   "source": [
    "embeddings"
   ]
  },
  {
   "cell_type": "markdown",
   "metadata": {},
   "source": [
    "To retrieve a specific value from one of the JSON documents in Redis use a JSONPath expression:"
   ]
  },
  {
   "cell_type": "code",
   "execution_count": 8,
   "metadata": {},
   "outputs": [],
   "source": [
    "res = client.json().get(\"bikes:010\", \"$.model\")"
   ]
  },
  {
   "cell_type": "markdown",
   "metadata": {},
   "source": [
    "Iterating over all the Redis keys with the prefix `bikes:`:"
   ]
  },
  {
   "cell_type": "code",
   "execution_count": 10,
   "metadata": {},
   "outputs": [],
   "source": [
    "keys = sorted(client.keys(\"bikes:*\"))"
   ]
  },
  {
   "cell_type": "markdown",
   "metadata": {},
   "source": [
    "Use the keys as a parameter to the JSON.MGET command, along with the JSONPath expression `$.description` to collect the descriptions in a list. Then, pass the list to the encode method to get a list of vectorized embeddings:"
   ]
  },
  {
   "cell_type": "code",
   "execution_count": 11,
   "metadata": {},
   "outputs": [],
   "source": [
    "descriptions = client.json().mget(keys, \"$.description\")\n",
    "descriptions = [item for sublist in descriptions for item in sublist]\n",
    "embedder = SentenceTransformer(\"msmarco-distilbert-base-v4\")\n",
    "embeddings = embedder.encode(descriptions).astype(np.float32).tolist()\n",
    "VECTOR_DIMENSION = len(embeddings[0])"
   ]
  },
  {
   "cell_type": "markdown",
   "metadata": {},
   "source": [
    "Adding a vectorized descriptions to the JSON documents in Redis using the JSON.SET command. The following command inserts a new field in each of the documents under the JSONPath `$.description_embeddings`. Using a pipeline for this:"
   ]
  },
  {
   "cell_type": "code",
   "execution_count": 12,
   "metadata": {},
   "outputs": [
    {
     "data": {
      "text/plain": [
       "[True, True, True, True, True, True, True, True, True, True, True]"
      ]
     },
     "execution_count": 12,
     "metadata": {},
     "output_type": "execute_result"
    }
   ],
   "source": [
    "pipeline = client.pipeline()\n",
    "for key, embedding in zip(keys, embeddings):\n",
    "    pipeline.json().set(key, \"$.description_embeddings\", embedding)\n",
    "pipeline.execute()"
   ]
  },
  {
   "cell_type": "markdown",
   "metadata": {},
   "source": [
    "Inspecting one of the vectorized bike documents using the JSON.GET command:"
   ]
  },
  {
   "cell_type": "code",
   "execution_count": 13,
   "metadata": {},
   "outputs": [],
   "source": [
    "res = client.json().get(\"bikes:010\")\n",
    "# >>>\n",
    "# {\n",
    "#   \"model\": \"Summit\",\n",
    "#   \"brand\": \"nHill\",\n",
    "#   \"price\": 1200,\n",
    "#   \"type\": \"Mountain Bike\",\n",
    "#   \"specs\": {\n",
    "#     \"material\": \"alloy\",\n",
    "#     \"weight\": \"11.3\"\n",
    "#   },\n",
    "#   \"description\": \"This budget mountain bike from nHill performs well...\"\n",
    "#   \"description_embeddings\": [\n",
    "#     -0.538114607334137,\n",
    "#     -0.49465855956077576,\n",
    "#     -0.025176964700222015,\n",
    "#     ...\n",
    "#   ]\n",
    "# }"
   ]
  },
  {
   "cell_type": "markdown",
   "metadata": {},
   "source": [
    "## Vector search"
   ]
  },
  {
   "cell_type": "markdown",
   "metadata": {},
   "source": [
    "Creating an index to query based on vector metadata or perform vector searches. Using the FT.CREATE command:"
   ]
  },
  {
   "cell_type": "code",
   "execution_count": null,
   "metadata": {},
   "outputs": [],
   "source": [
    "schema = (\n",
    "    TextField(\"$.model\", no_stem=True, as_name=\"model\"),\n",
    "    TextField(\"$.brand\", no_stem=True, as_name=\"brand\"),\n",
    "    NumericField(\"$.price\", as_name=\"price\"),\n",
    "    TagField(\"$.type\", as_name=\"type\"),\n",
    "    TextField(\"$.description\", as_name=\"description\"),\n",
    "    VectorField(\n",
    "        \"$.description_embeddings\",\n",
    "        \"FLAT\",\n",
    "        {\n",
    "            \"TYPE\": \"FLOAT32\",\n",
    "            \"DIM\": VECTOR_DIMENSION,\n",
    "            \"DISTANCE_METRIC\": \"COSINE\",\n",
    "        },\n",
    "        as_name=\"vector\",\n",
    "    ),\n",
    ")\n",
    "definition = IndexDefinition(prefix=[\"bikes:\"], index_type=IndexType.JSON)\n",
    "res = client.ft(\"idx:bikes_vss\").create_index(\n",
    "    fields=schema, definition=definition\n",
    ")"
   ]
  },
  {
   "cell_type": "code",
   "execution_count": 15,
   "metadata": {},
   "outputs": [],
   "source": [
    "info = client.ft(\"idx:bikes_vss\").info()\n",
    "num_docs = info[\"num_docs\"]\n",
    "indexing_failures = info[\"hash_indexing_failures\"]"
   ]
  },
  {
   "cell_type": "code",
   "execution_count": 16,
   "metadata": {},
   "outputs": [],
   "source": [
    "queries = [\n",
    "    \"Bike for small kids\",\n",
    "    \"Best Mountain bikes for kids\",\n",
    "    \"Cheap Mountain bike for kids\",\n",
    "    \"Female specific mountain bike\",\n",
    "    \"Road bike for beginners\",\n",
    "    \"Commuter bike for people over 60\",\n",
    "    \"Comfortable commuter bike\",\n",
    "    \"Good bike for college students\",\n",
    "    \"Mountain bike for beginners\",\n",
    "    \"Vintage bike\",\n",
    "    \"Comfortable city bike\",\n",
    "]"
   ]
  },
  {
   "cell_type": "code",
   "execution_count": 17,
   "metadata": {},
   "outputs": [
    {
     "data": {
      "text/plain": [
       "11"
      ]
     },
     "execution_count": 17,
     "metadata": {},
     "output_type": "execute_result"
    }
   ],
   "source": [
    "encoded_queries = embedder.encode(queries)\n",
    "len(encoded_queries)"
   ]
  },
  {
   "cell_type": "markdown",
   "metadata": {},
   "source": [
    "#### KNN query"
   ]
  },
  {
   "cell_type": "code",
   "execution_count": 18,
   "metadata": {},
   "outputs": [],
   "source": [
    "query = (\n",
    "    Query('(*)=>[KNN 3 @vector $query_vector AS vector_score]')\n",
    "     .sort_by('vector_score')\n",
    "     .return_fields('vector_score', 'id', 'brand', 'model', 'description')\n",
    "     .dialect(2)\n",
    ")"
   ]
  },
  {
   "cell_type": "code",
   "execution_count": 24,
   "metadata": {},
   "outputs": [],
   "source": [
    "# client.ft(INDEX_NAME).search(query, { 'query_vector': np.array(encoded_query, dtype=np.float32).tobytes() }).docs\n"
   ]
  },
  {
   "cell_type": "code",
   "execution_count": 28,
   "metadata": {},
   "outputs": [],
   "source": [
    "def create_query_table(query, queries, encoded_queries, extra_params={}):\n",
    "    results_list = []\n",
    "    for i, encoded_query in enumerate(encoded_queries):\n",
    "        result_docs = (\n",
    "            client.ft(\"idx:bikes_vss\")\n",
    "            .search(\n",
    "                query,\n",
    "                {\n",
    "                    \"query_vector\": np.array(\n",
    "                        encoded_query, dtype=np.float32\n",
    "                    ).tobytes()\n",
    "                }\n",
    "                | extra_params,\n",
    "            )\n",
    "            .docs\n",
    "        )\n",
    "        for doc in result_docs:\n",
    "            vector_score = round(1 - float(doc.vector_score), 2)\n",
    "            results_list.append(\n",
    "                {\n",
    "                    \"query\": queries[i],\n",
    "                    \"score\": vector_score,\n",
    "                    \"id\": doc.id,\n",
    "                    \"brand\": doc.brand,\n",
    "                    \"model\": doc.model,\n",
    "                    \"description\": doc.description,\n",
    "                }\n",
    "            )\n",
    "\n",
    "    # Optional: convert the table to Markdown using Pandas\n",
    "    queries_table = pd.DataFrame(results_list)\n",
    "    queries_table.sort_values(\n",
    "        by=[\"query\", \"score\"], ascending=[True, False], inplace=True\n",
    "    )\n",
    "    queries_table[\"query\"] = queries_table.groupby(\"query\")[\"query\"].transform(\n",
    "        lambda x: [x.iloc[0]] + [\"\"] * (len(x) - 1)\n",
    "    )\n",
    "    queries_table[\"description\"] = queries_table[\"description\"].apply(\n",
    "        lambda x: (x[:497] + \"...\") if len(x) > 500 else x\n",
    "    )\n",
    "    queries_table.to_markdown(index=False)"
   ]
  },
  {
   "cell_type": "code",
   "execution_count": 29,
   "metadata": {},
   "outputs": [],
   "source": [
    "create_query_table(query, queries, encoded_queries)"
   ]
  },
  {
   "cell_type": "code",
   "execution_count": null,
   "metadata": {},
   "outputs": [],
   "source": []
  }
 ],
 "metadata": {
  "kernelspec": {
   "display_name": ".venv",
   "language": "python",
   "name": "python3"
  },
  "language_info": {
   "codemirror_mode": {
    "name": "ipython",
    "version": 3
   },
   "file_extension": ".py",
   "mimetype": "text/x-python",
   "name": "python",
   "nbconvert_exporter": "python",
   "pygments_lexer": "ipython3",
   "version": "3.10.12"
  }
 },
 "nbformat": 4,
 "nbformat_minor": 2
}
